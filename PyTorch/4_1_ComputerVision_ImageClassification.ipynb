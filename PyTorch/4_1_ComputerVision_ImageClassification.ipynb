{
 "cells": [
  {
   "cell_type": "markdown",
   "id": "d1927fdf-ee6e-4a54-924c-39abe33faa43",
   "metadata": {},
   "source": [
    "# Computer Vision using PyTorch\n",
    "\n",
    "## What is computer vision?\n",
    "The objective of computer vision is to extract data from images and videos that can mimick the information humans can obtain from the same images. A highly interdisciplinary fields, it draws interest and application purposes from different scientific areas. [(From Wikipedia)](https://en.wikipedia.org/wiki/Computer_vision)\n",
    "\n",
    "\n",
    "## For what can we use computer vision?\n",
    "- Image classification (binary or multilevel) \n",
    "- Object detection\n",
    "- Segmentation\n",
    "\n",
    "Computer vision has found home in many fields in the engineering and natural sciences, adn has rapidly evolved and adapted to the specific needs and interests of the fields.\n",
    "\n",
    "While PyTorch has good computer vision support, specifically the `torchvision` module, by no means is the only option. Amongst [TensorFlow's](https://www.tensorflow.org/) utilities, there are computer vision APIs. Another option is the [OpenCV](https://docs.opencv.org/4.x/d6/d00/tutorial_py_root.html) library, which includes functions for multiple languages, including Python.\n",
    "\n",
    "Let's start coding!"
   ]
  },
  {
   "cell_type": "code",
   "execution_count": 1,
   "id": "3d6515ee-730a-4006-9acc-68935328671b",
   "metadata": {},
   "outputs": [
    {
     "data": {
      "text/plain": [
       "'cuda'"
      ]
     },
     "execution_count": 1,
     "metadata": {},
     "output_type": "execute_result"
    }
   ],
   "source": [
    "# Import the necessary libraries\n",
    "\n",
    "# PyTorch standard libraries\n",
    "import torch\n",
    "from torch import nn\n",
    "from torch.utils.data import DataLoader\n",
    "\n",
    "# PyTorch computer vision \n",
    "import torchvision\n",
    "from torchvision import datasets\n",
    "from torchvision.transforms import ToTensor\n",
    "\n",
    "# matplotlib for visualization\n",
    "import matplotlib.pyplot as plt\n",
    "\n",
    "# Set up for device-agnostic code\n",
    "\n",
    "device = \"cuda\" if torch.cuda.is_available() else \"cpu\"\n",
    "device"
   ]
  },
  {
   "cell_type": "markdown",
   "id": "d6212640-889e-4c06-99ee-f2e1951a0998",
   "metadata": {},
   "source": [
    "## What data are going to use?\n",
    "\n",
    "We are going to use the [MNIST database](https://en.wikipedia.org/wiki/MNIST_database) (Modified National Institute of Standards and Technology database). This dataset consists on thousands of hand-written numbers from 0 to 9, so it's a multilevel classification problem. In `torchvision.datasets` there are many different options, which you can see [here](https://pytorch.org/vision/stable/datasets.html). By looking into them it can give you an idea of the enormous amount of work and data that is required for building a computer vision model. These datasets are already split into training and testing data, which is specified when loading the models."
   ]
  },
  {
   "cell_type": "code",
   "execution_count": 89,
   "id": "6d6268c9-22ca-43bb-a23a-79c501493630",
   "metadata": {},
   "outputs": [
    {
     "name": "stdout",
     "output_type": "stream",
     "text": [
      "total 74032\n",
      "-rw-r--r-- 1 reyesmatte staffmpi  7840016 Jul 31 19:34 t10k-images-idx3-ubyte\n",
      "-rw-r--r-- 1 reyesmatte staffmpi  1648877 Jul 31 19:34 t10k-images-idx3-ubyte.gz\n",
      "-rw-r--r-- 1 reyesmatte staffmpi    10008 Jul 31 19:34 t10k-labels-idx1-ubyte\n",
      "-rw-r--r-- 1 reyesmatte staffmpi     4542 Jul 31 19:34 t10k-labels-idx1-ubyte.gz\n",
      "-rw-r--r-- 1 reyesmatte staffmpi 47040016 Jul 31 19:34 train-images-idx3-ubyte\n",
      "-rw-r--r-- 1 reyesmatte staffmpi  9912422 Jul 31 19:34 train-images-idx3-ubyte.gz\n",
      "-rw-r--r-- 1 reyesmatte staffmpi    60008 Jul 31 19:34 train-labels-idx1-ubyte\n",
      "-rw-r--r-- 1 reyesmatte staffmpi    28881 Jul 31 19:34 train-labels-idx1-ubyte.gz\n"
     ]
    }
   ],
   "source": [
    "# Load train and test data\n",
    "\n",
    "training = datasets.MNIST(\n",
    "    root='data', # Where to download the data\n",
    "    train=True, # Get training data\n",
    "    download=True, # Download the data if not already in disk\n",
    "    transform=ToTensor(), # Transform the images to tensors\n",
    "    target_transform=None) # If you wish to transform labels\n",
    "\n",
    "testing = datasets.MNIST(\n",
    "    root='data',\n",
    "    train=False, # get testing data\n",
    "    download=True,\n",
    "    transform=ToTensor())\n",
    "\n",
    "class_names = training.classes\n",
    "\n",
    "# Check what do we have in our folder\n",
    "\n",
    "!ls -l data/MNIST/raw/"
   ]
  },
  {
   "cell_type": "markdown",
   "id": "9a5def06-75a4-4508-845b-5736dc3e40e2",
   "metadata": {},
   "source": [
    "We have the training images and labels, as well as the testing (t10k) images and labels, how does our data look like?"
   ]
  },
  {
   "cell_type": "code",
   "execution_count": 91,
   "id": "17e86f73-0a07-4101-ba79-c1e68d3aaabc",
   "metadata": {},
   "outputs": [
    {
     "data": {
      "text/plain": [
       "torch.Size([1, 28, 28])"
      ]
     },
     "execution_count": 91,
     "metadata": {},
     "output_type": "execute_result"
    },
    {
     "data": {
      "image/png": "[encoded data removed]",
      "text/plain": [
       "<Figure size 864x288 with 3 Axes>"
      ]
     },
     "metadata": {
      "needs_background": "light"
     },
     "output_type": "display_data"
    }
   ],
   "source": [
    "plt.figure(figsize=(12,4))\n",
    "\n",
    "for i in range(3):\n",
    "    plt.subplot(1,3,i+1)\n",
    "    plt.imshow(training[i][0][0,:,:], cmap=\"gray\")\n",
    "    plt.title(str(training[i][1]))\n",
    "    \n",
    "image, label = training[0]\n",
    "image.shape"
   ]
  },
  {
   "cell_type": "markdown",
   "id": "64d13ee0-fe65-49e3-9421-b3c70c074816",
   "metadata": {},
   "source": [
    "The shape of each image is `[1, 28, 28]`, which means: 1 color channel (grayscale), 28 pixels height, 28 pixels width. This format is known as **CHW (channels, height, width)**. PyTorch supports the CHW structure, however, it suggests that HWC (channels last) normally performs better, which can be very important for larger models using larger images."
   ]
  },
  {
   "cell_type": "code",
   "execution_count": 4,
   "id": "4bfc405d-2aa7-4406-a2b3-9f83b26b78ea",
   "metadata": {},
   "outputs": [
    {
     "name": "stdout",
     "output_type": "stream",
     "text": [
      "60000 60000 10000 10000\n",
      "['0 - zero', '1 - one', '2 - two', '3 - three', '4 - four', '5 - five', '6 - six', '7 - seven', '8 - eight', '9 - nine']\n"
     ]
    }
   ],
   "source": [
    "# Composition of the dataset\n",
    "print(len(training.data), len(training.targets), len(testing.data), len(testing.targets))\n",
    "print(training.classes)\n"
   ]
  },
  {
   "cell_type": "markdown",
   "id": "fc6ea970-61fd-4169-bac2-47163fd0a398",
   "metadata": {},
   "source": [
    "Our dataset has 60000 training images and 10000 testing images, both with their corresponding labels and ten possible labels. "
   ]
  },
  {
   "cell_type": "markdown",
   "id": "a3e10fd2-4f99-4896-a9cb-6752f3485e19",
   "metadata": {},
   "source": [
    "## Model loading and batching\n",
    "\n",
    "For loading large datasets of images in PyTorch models, we can use the `torch.utils.data.DataLoader`. What this does is splitting the data into chunks or batches so the model iterates on the batches and not on the whole data all at once. A typical (and recommended) batch size is 32 \n",
    "\n",
    "*Friends dont let friends use minibatches larger than 32* - Yann LeCun"
   ]
  },
  {
   "cell_type": "code",
   "execution_count": 5,
   "id": "3f69d392-c3de-4a1b-b2a7-537a7686d712",
   "metadata": {},
   "outputs": [
    {
     "name": "stdout",
     "output_type": "stream",
     "text": [
      "Length of train dataloader: 1875 batches of 32\n",
      "Length of test dataloader: 313 batches of 32\n",
      "torch.Size([32, 1, 28, 28]) torch.Size([32])\n"
     ]
    }
   ],
   "source": [
    "BatchSize = 32\n",
    "\n",
    "train_dataloader = DataLoader(training, # Which data we are loading\n",
    "                              batch_size = BatchSize, # Batch size\n",
    "                              shuffle = True) # Image shuffling every epoch\n",
    "\n",
    "# Shuffling is commonly done for the training data, not necessarily for the testing data\n",
    "\n",
    "test_dataloader = DataLoader(testing, batch_size = BatchSize, shuffle = False)\n",
    "\n",
    "# Check Structure of the dataloaders\n",
    "print(f\"Length of train dataloader: {len(train_dataloader)} batches of {BatchSize}\")\n",
    "print(f\"Length of test dataloader: {len(test_dataloader)} batches of {BatchSize}\")\n",
    "\n",
    "train_features_batch, train_labels_batch = next(iter(train_dataloader))\n",
    "\n",
    "# Check the structure of the data and labels\n",
    "print(train_features_batch.shape, train_labels_batch.shape)"
   ]
  },
  {
   "cell_type": "code",
   "execution_count": 6,
   "id": "b6ed6d74-6f0a-48fd-a0a8-c3aefe05712b",
   "metadata": {},
   "outputs": [
    {
     "data": {
      "text/plain": [
       "(-0.5, 27.5, 27.5, -0.5)"
      ]
     },
     "execution_count": 6,
     "metadata": {},
     "output_type": "execute_result"
    },
    {
     "data": {
      "image/png": "[encoded data removed]",
      "text/plain": [
       "<Figure size 432x288 with 1 Axes>"
      ]
     },
     "metadata": {
      "needs_background": "light"
     },
     "output_type": "display_data"
    }
   ],
   "source": [
    "# We can show a sample to check\n",
    "\n",
    "torch.manual_seed(35)\n",
    "rand_id = torch.randint(0, len(train_features_batch), size=[1]).item()\n",
    "img, label = train_features_batch[rand_id], train_labels_batch[rand_id]\n",
    "plt.imshow(img.squeeze(),cmap='gray')\n",
    "plt.title(training.classes[label])\n",
    "plt.axis('off')"
   ]
  },
  {
   "cell_type": "markdown",
   "id": "2f9f5bcb-9670-45b5-a986-83a727c96508",
   "metadata": {},
   "source": [
    "We now have the information to build our model. Neural Networks that classify images typically start with a **flatten** layer (`nn.Flatten`) which transforms images into 1-dimensional tensors (vectors), where each pixel of the flattened image becomes a hidden unit. Because we are working with 28 by 28 images, our flattened layer will have 784 starting hidden units. \n",
    "\n",
    "As you can see from seeing a number, data doesn't appear to be exactly linear. And in most models that work with images, this holds true and the ReLU activation is a very common activation. \n",
    "\n",
    "We can then create our model class. "
   ]
  },
  {
   "cell_type": "code",
   "execution_count": 7,
   "id": "51df2600-d1c8-4635-a316-3199f4964544",
   "metadata": {},
   "outputs": [],
   "source": [
    "class NumberModel(nn.Module):\n",
    "    def __init__(self, input_shape: int, output_shape: int, hidden_units: int):\n",
    "        super().__init__()\n",
    "        self.layer_stack = nn.Sequential(\n",
    "            nn.Flatten(),\n",
    "            nn.ReLU(),\n",
    "            nn.Linear(in_features=input_shape,out_features=hidden_units),\n",
    "            nn.ReLU(),\n",
    "            nn.Linear(in_features=hidden_units,out_features=hidden_units),\n",
    "            nn.ReLU(),\n",
    "            nn.Linear(in_features=hidden_units,out_features=output_shape))\n",
    "    \n",
    "    def forward(self, x: torch.Tensor):\n",
    "        return self.layer_stack(x)"
   ]
  },
  {
   "cell_type": "code",
   "execution_count": 8,
   "id": "a74e2901-6752-4445-8f08-2f04737493a5",
   "metadata": {},
   "outputs": [
    {
     "data": {
      "text/plain": [
       "NumberModel(\n",
       "  (layer_stack): Sequential(\n",
       "    (0): Flatten(start_dim=1, end_dim=-1)\n",
       "    (1): ReLU()\n",
       "    (2): Linear(in_features=784, out_features=50, bias=True)\n",
       "    (3): ReLU()\n",
       "    (4): Linear(in_features=50, out_features=50, bias=True)\n",
       "    (5): ReLU()\n",
       "    (6): Linear(in_features=50, out_features=10, bias=True)\n",
       "  )\n",
       ")"
      ]
     },
     "execution_count": 8,
     "metadata": {},
     "output_type": "execute_result"
    }
   ],
   "source": [
    "# We can start: setting up the accuracy function, initialize the model and set up loss and optimizer\n",
    "\n",
    "def accuracy_fn(y_true, y_pred):\n",
    "    correct = torch.eq(y_true, y_pred).sum().item() # torch.eq() calculates where two tensors are equal\n",
    "    acc = (correct / len(y_pred)) * 100 \n",
    "    return acc\n",
    "\n",
    "torch.manual_seed(33)\n",
    "\n",
    "model_0 = NumberModel(input_shape=784,\n",
    "                      output_shape=len(training.classes),\n",
    "                      hidden_units=50)\n",
    "\n",
    "loss_fn = nn.CrossEntropyLoss()\n",
    "\n",
    "optimizer = torch.optim.SGD(params=model_0.parameters(), lr=0.1)\n",
    "\n",
    "\n",
    "model_0.to(device)"
   ]
  },
  {
   "cell_type": "code",
   "execution_count": 9,
   "id": "34fd45a2-0dd3-4734-b314-a2a001b413b8",
   "metadata": {},
   "outputs": [],
   "source": [
    "# Typically, Deep Learning models are computationally intensive and take their time to be trained. Setting up a timer function can be a good idea to compare model performance in different devices and by tuning some parameters\n",
    "\n",
    "from timeit import default_timer as timer \n",
    "def print_train_time(start: float, end: float, device: torch.device = None):\n",
    "    \"\"\"Prints difference between start and end time.\n",
    "\n",
    "    Args:\n",
    "        start (float): Start time of computation (preferred in timeit format). \n",
    "        end (float): End time of computation.\n",
    "        device ([type], optional): Device that compute is running on. Defaults to None.\n",
    "\n",
    "    Returns:\n",
    "        float: time between start and end in seconds (higher is longer).\n",
    "    \"\"\"\n",
    "    total_time = end - start\n",
    "    print(f\"Train time on {device}: {total_time:.3f} seconds\")\n",
    "    return total_time"
   ]
  },
  {
   "cell_type": "code",
   "execution_count": 10,
   "id": "f8912e02-5f2a-499c-bf2a-037a1e34c840",
   "metadata": {},
   "outputs": [
    {
     "data": {
      "application/vnd.jupyter.widget-view+json": {
       "model_id": "1b105b3460324b9281a9b597eced04e0",
       "version_major": 2,
       "version_minor": 0
      },
      "text/plain": [
       "  0%|          | 0/10 [00:00<?, ?it/s]"
      ]
     },
     "metadata": {},
     "output_type": "display_data"
    },
    {
     "name": "stdout",
     "output_type": "stream",
     "text": [
      "Epoch: 0\n",
      "-------\n",
      "Looked at 0/60000 samples\n",
      "Looked at 12800/60000 samples\n",
      "Looked at 25600/60000 samples\n",
      "Looked at 38400/60000 samples\n",
      "Looked at 51200/60000 samples\n",
      "Train loss: 0.38350 | Test loss: 0.17528 | Test accuracy: 94.79%\n",
      "\n",
      "Epoch: 1\n",
      "-------\n",
      "Looked at 0/60000 samples\n",
      "Looked at 12800/60000 samples\n",
      "Looked at 25600/60000 samples\n",
      "Looked at 38400/60000 samples\n",
      "Looked at 51200/60000 samples\n",
      "Train loss: 0.15389 | Test loss: 0.13343 | Test accuracy: 95.92%\n",
      "\n",
      "Epoch: 2\n",
      "-------\n",
      "Looked at 0/60000 samples\n",
      "Looked at 12800/60000 samples\n",
      "Looked at 25600/60000 samples\n",
      "Looked at 38400/60000 samples\n",
      "Looked at 51200/60000 samples\n",
      "Train loss: 0.11452 | Test loss: 0.12465 | Test accuracy: 96.13%\n",
      "\n",
      "Epoch: 3\n",
      "-------\n",
      "Looked at 0/60000 samples\n",
      "Looked at 12800/60000 samples\n",
      "Looked at 25600/60000 samples\n",
      "Looked at 38400/60000 samples\n",
      "Looked at 51200/60000 samples\n",
      "Train loss: 0.09048 | Test loss: 0.09600 | Test accuracy: 97.06%\n",
      "\n",
      "Epoch: 4\n",
      "-------\n",
      "Looked at 0/60000 samples\n",
      "Looked at 12800/60000 samples\n",
      "Looked at 25600/60000 samples\n",
      "Looked at 38400/60000 samples\n",
      "Looked at 51200/60000 samples\n",
      "Train loss: 0.07874 | Test loss: 0.09634 | Test accuracy: 96.93%\n",
      "\n",
      "Epoch: 5\n",
      "-------\n",
      "Looked at 0/60000 samples\n",
      "Looked at 12800/60000 samples\n",
      "Looked at 25600/60000 samples\n",
      "Looked at 38400/60000 samples\n",
      "Looked at 51200/60000 samples\n",
      "Train loss: 0.06807 | Test loss: 0.09133 | Test accuracy: 96.98%\n",
      "\n",
      "Epoch: 6\n",
      "-------\n",
      "Looked at 0/60000 samples\n",
      "Looked at 12800/60000 samples\n",
      "Looked at 25600/60000 samples\n",
      "Looked at 38400/60000 samples\n",
      "Looked at 51200/60000 samples\n",
      "Train loss: 0.05895 | Test loss: 0.10339 | Test accuracy: 97.05%\n",
      "\n",
      "Epoch: 7\n",
      "-------\n",
      "Looked at 0/60000 samples\n",
      "Looked at 12800/60000 samples\n",
      "Looked at 25600/60000 samples\n",
      "Looked at 38400/60000 samples\n",
      "Looked at 51200/60000 samples\n",
      "Train loss: 0.05326 | Test loss: 0.08765 | Test accuracy: 97.55%\n",
      "\n",
      "Epoch: 8\n",
      "-------\n",
      "Looked at 0/60000 samples\n",
      "Looked at 12800/60000 samples\n",
      "Looked at 25600/60000 samples\n",
      "Looked at 38400/60000 samples\n",
      "Looked at 51200/60000 samples\n",
      "Train loss: 0.04617 | Test loss: 0.09230 | Test accuracy: 97.32%\n",
      "\n",
      "Epoch: 9\n",
      "-------\n",
      "Looked at 0/60000 samples\n",
      "Looked at 12800/60000 samples\n",
      "Looked at 25600/60000 samples\n",
      "Looked at 38400/60000 samples\n",
      "Looked at 51200/60000 samples\n",
      "Train loss: 0.04296 | Test loss: 0.09665 | Test accuracy: 97.27%\n",
      "\n",
      "Train time on cpu: 97.428 seconds\n"
     ]
    }
   ],
   "source": [
    "# Build train and test loop\n",
    "\n",
    "from tqdm.auto import tqdm # Progress bar\n",
    "\n",
    "torch.manual_seed(33)\n",
    "Train_time_cpu = timer()\n",
    "\n",
    "epochs = 10\n",
    "\n",
    "for epoch in tqdm(range(epochs)):\n",
    "    print(f\"Epoch: {epoch}\\n-------\")\n",
    "        \n",
    "    ## Training\n",
    "    \n",
    "    train_loss = 0\n",
    "    ### Because we have our data split into batches, we need to iterate through the batches\n",
    "    \n",
    "    for batch, (X,y) in enumerate(train_dataloader):\n",
    "        model_0.train()\n",
    "        \n",
    "        # Forward pass\n",
    "        y_pred = model_0(X)\n",
    "        \n",
    "        # Per-batch loss\n",
    "        loss = loss_fn(y_pred,y)\n",
    "        train_loss += loss\n",
    "        \n",
    "        # Optimizer zero grad\n",
    "        optimizer.zero_grad()\n",
    "        \n",
    "        # Backward propagation\n",
    "        loss.backward()\n",
    "        \n",
    "        # Optimizer step\n",
    "        optimizer.step()\n",
    "        \n",
    "        # Print the number of seen samples\n",
    "        if batch % 400 == 0:\n",
    "            print(f\"Looked at {batch*len(X)}/{len(train_dataloader.dataset)} samples\") \n",
    "    \n",
    "    # Divide train loss by length of dataloader (average loss per batch per epoch) \n",
    "    train_loss /= len(train_dataloader)\n",
    "    \n",
    "    ## Testing\n",
    "    test_loss, test_acc = 0, 0\n",
    "    model_0.eval()\n",
    "    \n",
    "    with torch.inference_mode():\n",
    "        \n",
    "        # Initialize iteration\n",
    "        for X,y in test_dataloader:\n",
    "            \n",
    "            # Forward pass\n",
    "            test_pred = model_0(X)\n",
    "            \n",
    "            # Calculate cummulative loss\n",
    "            test_loss += loss_fn(test_pred,y)\n",
    "            \n",
    "            # Calculate cummulative accuracy\n",
    "            test_acc += accuracy_fn(y_true=y, y_pred=test_pred.argmax(dim=1))\n",
    "            \n",
    "        # Calculation of test metrics\n",
    "        ## Divide total loss by length of test dataloader\n",
    "        test_loss /= len(test_dataloader)\n",
    "        \n",
    "        ## Do the same for the accuracy\n",
    "        test_acc /= len(test_dataloader)\n",
    "        \n",
    "    # Print out what's happening every 10 epochs        \n",
    "    print(f\"Train loss: {train_loss:.5f} | Test loss: {test_loss:.5f} | Test accuracy: {test_acc:.2f}%\\n\")\n",
    "\n",
    "Train_time_end_cpu = timer()\n",
    "total_train_time_model_0 = print_train_time(start=Train_time_cpu, \n",
    "                                           end=Train_time_end_cpu,\n",
    "                                           device=str(next(model_0.parameters()).device))\n",
    "            \n",
    "            \n",
    "    "
   ]
  },
  {
   "cell_type": "markdown",
   "id": "79b12827-d5b9-4245-bd5e-605c151263fa",
   "metadata": {},
   "source": [
    "We can see that gradually our model increases in accuracy. As more and more models are built, it's a good option to build functions that automate certain processes for comparisons.\n",
    "\n",
    "For example, we can build a function to extract the loss and accuracy of our model:\n"
   ]
  },
  {
   "cell_type": "code",
   "execution_count": 11,
   "id": "2ea80ccd-3c7d-4591-81ff-308b37166d3e",
   "metadata": {},
   "outputs": [],
   "source": [
    "torch.manual_seed(33)\n",
    "\n",
    "def eval_model(model: torch.nn.Module,\n",
    "               data_loader: torch.utils.data.DataLoader,\n",
    "               loss_fn: torch.nn.Module,\n",
    "               accuracy_fn,\n",
    "               device: torch.device = device):\n",
    "    \n",
    "    loss, acc = 0, 0\n",
    "    model.eval()\n",
    "    \n",
    "    with torch.inference_mode():\n",
    "        \n",
    "        for X,y in data_loader:\n",
    "            \n",
    "            X, y = X.to(device), y.to(device)\n",
    "            \n",
    "            # Predict using the model\n",
    "            y_pred = model(X)\n",
    "            \n",
    "            # Calculate loss and accuracy\n",
    "            loss += loss_fn(y_pred,y)\n",
    "            acc += accuracy_fn(y_true=y, y_pred=y_pred.argmax(dim=1))\n",
    "            \n",
    "        # Scale to find averages\n",
    "        loss /= len(data_loader)\n",
    "        acc /= len(data_loader)\n",
    "        \n",
    "    return {\"Model name\":model.__class__.__name__,\n",
    "           \"Model loss\": loss.item(),\n",
    "           \"Model accuracy\": acc}"
   ]
  },
  {
   "cell_type": "code",
   "execution_count": 12,
   "id": "dc8ab2d8-f177-4d09-83bb-4adc057b771d",
   "metadata": {},
   "outputs": [
    {
     "data": {
      "text/plain": [
       "{'Model name': 'NumberModel',\n",
       " 'Model loss': 0.0966479703783989,\n",
       " 'Model accuracy': 97.27436102236422}"
      ]
     },
     "execution_count": 12,
     "metadata": {},
     "output_type": "execute_result"
    }
   ],
   "source": [
    "# Calculate model results on test dataset\n",
    "\n",
    "model_0_results = eval_model(model=model_0, data_loader=test_dataloader,\n",
    "    loss_fn=loss_fn, accuracy_fn=accuracy_fn,device=device)\n",
    "model_0_results"
   ]
  },
  {
   "cell_type": "markdown",
   "id": "43094763-e806-4376-9eaf-ce1932abf93e",
   "metadata": {},
   "source": [
    "Another option is to build functions that perform the training and testing steps. Here we'll build functions based on our standard train-test loops"
   ]
  },
  {
   "cell_type": "code",
   "execution_count": 13,
   "id": "45f3a19a-c56c-40a6-afd9-c9f22f6a2c6c",
   "metadata": {},
   "outputs": [],
   "source": [
    "def train_step(model: torch.nn.Module,\n",
    "              data_loader: torch.utils.data.DataLoader,\n",
    "              loss_fn: torch.nn.Module,\n",
    "              optimizer: torch.optim.Optimizer,\n",
    "              accuracy_fn,\n",
    "              device: torch.device = device):\n",
    "    \n",
    "    train_loss, train_acc = 0,0\n",
    "    model.to(device)\n",
    "    \n",
    "    for batch, (X,y) in enumerate(data_loader):\n",
    "        # Send data to device\n",
    "        X, y = X.to(device), y.to(device)\n",
    "        \n",
    "        # Forward pass\n",
    "        y_pred = model(X)\n",
    "        \n",
    "        # Per-batch loss and accuracy\n",
    "        loss = loss_fn(y_pred,y)\n",
    "        train_loss += loss\n",
    "        train_acc += accuracy_fn(y_true=y, y_pred=y_pred.argmax(dim=1))\n",
    "        \n",
    "        # Optimizer zero grad\n",
    "        optimizer.zero_grad()\n",
    "        \n",
    "        # Backward propagation\n",
    "        loss.backward()\n",
    "        \n",
    "        # Optimizer step\n",
    "        optimizer.step()\n",
    "        \n",
    "    # Divide train loss and accuracy by length of dataloader (average loss/accuracy per batch per epoch) \n",
    "    train_loss /= len(data_loader)\n",
    "    train_acc /= len(data_loader)\n",
    "    \n",
    "    print(f\"Training loss: {train_loss:.5f} | Training accuracy: {train_acc:.2f}%\\n\")\n",
    "    \n",
    "    \n",
    "def test_step(model: torch.nn.Module,\n",
    "              data_loader: torch.utils.data.DataLoader,\n",
    "              loss_fn: torch.nn.Module,\n",
    "              accuracy_fn,\n",
    "              device: torch.device = device):\n",
    "    \n",
    "    test_loss, test_acc = 0,0\n",
    "    model.to(device)\n",
    "    model.eval()\n",
    "    \n",
    "    with torch.inference_mode():\n",
    "        \n",
    "        for X,y in data_loader:\n",
    "            \n",
    "            # Forward pass\n",
    "            test_pred = model(X)\n",
    "            \n",
    "            # Cumulative loss\n",
    "            test_loss += loss_fn(test_pred,y)\n",
    "            \n",
    "            # Cummulative accuracy\n",
    "            test_acc += accuracy_fn(y_true=y, y_pred=test_pred.argmax(dim=1))\n",
    "            \n",
    "        # Divide train loss and accuracy by length of dataloader (average loss/accuracy per batch per epoch) \n",
    "        test_loss /= len(data_loader)\n",
    "        test_acc /= len(data_loader)\n",
    "        \n",
    "        print(f\"Testing loss: {test_loss:.5f} | Testing accuracy: {test_acc:.2f}%\\n\")"
   ]
  },
  {
   "cell_type": "code",
   "execution_count": 14,
   "id": "afc4ead3-c0b9-4886-b7c0-a8b4bf5ce6da",
   "metadata": {},
   "outputs": [
    {
     "data": {
      "application/vnd.jupyter.widget-view+json": {
       "model_id": "0915d1f8bc4d45f2a09ae181e2ee262c",
       "version_major": 2,
       "version_minor": 0
      },
      "text/plain": [
       "  0%|          | 0/5 [00:00<?, ?it/s]"
      ]
     },
     "metadata": {},
     "output_type": "display_data"
    },
    {
     "name": "stdout",
     "output_type": "stream",
     "text": [
      "Epoch: 0\n",
      "--------\n",
      "Training loss: 0.03802 | Training accuracy: 98.76%\n",
      "\n",
      "Testing loss: 0.10775 | Testing accuracy: 97.14%\n",
      "\n",
      "Epoch: 1\n",
      "--------\n",
      "Training loss: 0.03379 | Training accuracy: 98.86%\n",
      "\n",
      "Testing loss: 0.09446 | Testing accuracy: 97.40%\n",
      "\n",
      "Epoch: 2\n",
      "--------\n",
      "Training loss: 0.03043 | Training accuracy: 99.02%\n",
      "\n",
      "Testing loss: 0.08854 | Testing accuracy: 97.47%\n",
      "\n",
      "Epoch: 3\n",
      "--------\n",
      "Training loss: 0.02925 | Training accuracy: 99.02%\n",
      "\n",
      "Testing loss: 0.09256 | Testing accuracy: 97.76%\n",
      "\n",
      "Epoch: 4\n",
      "--------\n",
      "Training loss: 0.02697 | Training accuracy: 99.13%\n",
      "\n",
      "Testing loss: 0.10165 | Testing accuracy: 97.39%\n",
      "\n"
     ]
    }
   ],
   "source": [
    "torch.manual_seed(55)\n",
    "\n",
    "#train_start_gpu = timer()\n",
    "\n",
    "epochs = 5\n",
    "\n",
    "for epoch in tqdm(range(epochs)):\n",
    "    print(f\"Epoch: {epoch}\\n--------\")\n",
    "    train_step(model = model_0,\n",
    "              data_loader = train_dataloader,\n",
    "              loss_fn = loss_fn,\n",
    "              optimizer = optimizer,\n",
    "              accuracy_fn = accuracy_fn, device=device)\n",
    "    \n",
    "    test_step(model = model_0,\n",
    "              data_loader = test_dataloader,\n",
    "              loss_fn = loss_fn,\n",
    "              accuracy_fn = accuracy_fn, device=device)"
   ]
  },
  {
   "cell_type": "markdown",
   "id": "b51e579f-02cf-4ff3-be07-27ab7d575230",
   "metadata": {},
   "source": [
    "## Building a Convolutional Neural Network (CNN)\n",
    "\n",
    "CNNs are a type of network that's well optimized for finding patterns in image data. A detailes explanation can be found in the [CNN Explainer website](https://poloclub.github.io/cnn-explainer/).\n",
    "\n",
    "A key aspect of CNNs is their architecture. As well as having input and output layers, they are also built with:\n",
    "\n",
    "- Convolutional layers\n",
    "- Activation layers\n",
    "- Pooling layers\n",
    "\n",
    "### Convolutional layers\n",
    "\n",
    "### Activation layers\n",
    "Layers where activation functions (typically ReLU or Softmax)\n",
    "\n",
    "\n",
    "### Pooling layers\n",
    "There are many types of pooling layers in different CNN architectures. Their purpose is to gradually decrease the spatial extent of the network, which reduces the parameters and overall computation of the network. "
   ]
  },
  {
   "cell_type": "code",
   "execution_count": 15,
   "id": "48d8eea1-78a4-49e3-99ac-0735f55536b5",
   "metadata": {},
   "outputs": [],
   "source": [
    "# Create a CNN for our number image data\n",
    "\n",
    "class NumberModel_CNN(nn.Module):\n",
    "    \n",
    "    \"\"\"\n",
    "    Model architecture copying TinyVGG from: \n",
    "    https://poloclub.github.io/cnn-explainer/\n",
    "    \"\"\"\n",
    "    \n",
    "    def __init__(self,input_shape: int, output_shape: int, hidden_units: int):\n",
    "        super().__init__()\n",
    "        \n",
    "        self.block1 = nn.Sequential(\n",
    "            nn.Conv2d(in_channels=input_shape,\n",
    "                      out_channels=hidden_units,\n",
    "                      kernel_size=3, # How big is the square that goes over the image?\n",
    "                      stride=1, # Default value\n",
    "                      padding=1),# options = \"valid\" (no padding) or \"same\" (output has same shape as input) or int for specific number \n",
    "            nn.ReLU(),\n",
    "            nn.Conv2d(in_channels=hidden_units,\n",
    "                      out_channels=hidden_units,\n",
    "                      kernel_size=3, \n",
    "                      stride=1, \n",
    "                      padding=1),\n",
    "            nn.ReLU(),\n",
    "            nn.MaxPool2d(kernel_size=2,\n",
    "                         stride=2) # default stride value is same as kernel_size\n",
    "        )\n",
    "        \n",
    "        self.block2 = nn.Sequential(\n",
    "            nn.Conv2d(hidden_units,hidden_units,kernel_size=3,padding=1),\n",
    "            nn.ReLU(),\n",
    "            nn.Conv2d(hidden_units,hidden_units,kernel_size=3,padding=1),\n",
    "            nn.ReLU(),\n",
    "            nn.MaxPool2d(kernel_size=2)\n",
    "        )\n",
    "        self.classifier = nn.Sequential(\n",
    "            nn.Flatten(),\n",
    "            nn.Linear(in_features=hidden_units*7*7, out_features=output_shape)\n",
    "            # These in_features come from the compressing of the images and shape change in the pooling layers\n",
    "        )\n",
    "        \n",
    "    def forward(self, x: torch.tensor):\n",
    "        x = self.block1(x)\n",
    "        x = self.block2(x)\n",
    "        x = self.classifier(x)\n",
    "        \n",
    "        return x\n",
    "        # Alternatively\n",
    "        # return self.classifier(self.block2(self.block1(x)))"
   ]
  },
  {
   "cell_type": "code",
   "execution_count": 16,
   "id": "ea2a6279-1096-43a7-a203-116c76b144ec",
   "metadata": {},
   "outputs": [
    {
     "data": {
      "text/plain": [
       "NumberModel_CNN(\n",
       "  (block1): Sequential(\n",
       "    (0): Conv2d(1, 10, kernel_size=(3, 3), stride=(1, 1), padding=(1, 1))\n",
       "    (1): ReLU()\n",
       "    (2): Conv2d(10, 10, kernel_size=(3, 3), stride=(1, 1), padding=(1, 1))\n",
       "    (3): ReLU()\n",
       "    (4): MaxPool2d(kernel_size=2, stride=2, padding=0, dilation=1, ceil_mode=False)\n",
       "  )\n",
       "  (block2): Sequential(\n",
       "    (0): Conv2d(10, 10, kernel_size=(3, 3), stride=(1, 1), padding=(1, 1))\n",
       "    (1): ReLU()\n",
       "    (2): Conv2d(10, 10, kernel_size=(3, 3), stride=(1, 1), padding=(1, 1))\n",
       "    (3): ReLU()\n",
       "    (4): MaxPool2d(kernel_size=2, stride=2, padding=0, dilation=1, ceil_mode=False)\n",
       "  )\n",
       "  (classifier): Sequential(\n",
       "    (0): Flatten(start_dim=1, end_dim=-1)\n",
       "    (1): Linear(in_features=490, out_features=10, bias=True)\n",
       "  )\n",
       ")"
      ]
     },
     "execution_count": 16,
     "metadata": {},
     "output_type": "execute_result"
    }
   ],
   "source": [
    "torch.manual_seed(33)\n",
    "model_2 = NumberModel_CNN(input_shape=1, \n",
    "    hidden_units=10, \n",
    "    output_shape=len(training.classes)).to(device)\n",
    "model_2"
   ]
  },
  {
   "cell_type": "markdown",
   "id": "8798209d-487e-43cf-be8a-719db68b1ccf",
   "metadata": {},
   "source": [
    "Now that we have built our model, we can perform our train and test loop using our previously defined functions"
   ]
  },
  {
   "cell_type": "code",
   "execution_count": 34,
   "id": "080ff2f4-4d10-4cfb-875e-fb049c47b953",
   "metadata": {},
   "outputs": [
    {
     "data": {
      "application/vnd.jupyter.widget-view+json": {
       "model_id": "3913669dcb504b3d88fffac19461f6dc",
       "version_major": 2,
       "version_minor": 0
      },
      "text/plain": [
       "  0%|          | 0/5 [00:00<?, ?it/s]"
      ]
     },
     "metadata": {},
     "output_type": "display_data"
    },
    {
     "name": "stdout",
     "output_type": "stream",
     "text": [
      "Epoch: 0\n",
      "---------\n",
      "Training loss: 0.05089 | Training accuracy: 98.46%\n",
      "\n",
      "Testing loss: 0.04426 | Testing accuracy: 98.52%\n",
      "\n",
      "Epoch: 1\n",
      "---------\n",
      "Training loss: 0.04517 | Training accuracy: 98.61%\n",
      "\n",
      "Testing loss: 0.04090 | Testing accuracy: 98.61%\n",
      "\n",
      "Epoch: 2\n",
      "---------\n",
      "Training loss: 0.04025 | Training accuracy: 98.77%\n",
      "\n",
      "Testing loss: 0.04219 | Testing accuracy: 98.66%\n",
      "\n",
      "Epoch: 3\n",
      "---------\n",
      "Training loss: 0.03750 | Training accuracy: 98.86%\n",
      "\n",
      "Testing loss: 0.04349 | Testing accuracy: 98.55%\n",
      "\n",
      "Epoch: 4\n",
      "---------\n",
      "Training loss: 0.03424 | Training accuracy: 98.92%\n",
      "\n",
      "Testing loss: 0.03475 | Testing accuracy: 98.78%\n",
      "\n",
      "Train time on cpu: 90.487 seconds\n"
     ]
    }
   ],
   "source": [
    "torch.manual_seed(33)\n",
    "\n",
    "loss_fn = nn.CrossEntropyLoss()\n",
    "optimizer = torch.optim.SGD(params=model_2.parameters(),lr=0.1)\n",
    "\n",
    "train_CNN_model2_start = timer()\n",
    "\n",
    "# Train and test model \n",
    "epochs = 5\n",
    "for epoch in tqdm(range(epochs)):\n",
    "    print(f\"Epoch: {epoch}\\n---------\")\n",
    "    \n",
    "    train_step(data_loader=train_dataloader,\n",
    "               model=model_2,\n",
    "               loss_fn=loss_fn,\n",
    "               accuracy_fn=accuracy_fn,\n",
    "               optimizer=optimizer,\n",
    "               device=device)\n",
    "    \n",
    "    test_step(data_loader=test_dataloader,\n",
    "               model=model_2,\n",
    "               loss_fn=loss_fn,\n",
    "               accuracy_fn=accuracy_fn,\n",
    "               device=device)\n",
    "\n",
    "train_CNN_model_end2 = timer()\n",
    "total_train_time_model_2 = print_train_time(start=train_CNN_model2_start,\n",
    "                                           end=train_CNN_model_end2,\n",
    "                                           device=device)"
   ]
  },
  {
   "cell_type": "code",
   "execution_count": 35,
   "id": "cd33ce96-0ab6-4baa-8675-3f3b2a0d2e04",
   "metadata": {},
   "outputs": [
    {
     "data": {
      "text/plain": [
       "{'Model name': 'NumberModel_CNN',\n",
       " 'Model loss': 0.03474917262792587,\n",
       " 'Model accuracy': 98.78194888178913}"
      ]
     },
     "execution_count": 35,
     "metadata": {},
     "output_type": "execute_result"
    }
   ],
   "source": [
    "# Then evaluate the model\n",
    "\n",
    "model_2_results = eval_model(data_loader=test_dataloader,model=model_2,accuracy_fn=accuracy_fn,loss_fn=loss_fn,device=device)\n",
    "model_2_results"
   ]
  },
  {
   "cell_type": "markdown",
   "id": "279c307d-3513-4606-a3aa-d0171c78bc1e",
   "metadata": {},
   "source": [
    "## Compare models\n",
    "\n",
    "As you train more and more models with different parameters and netowrk architectures, it becomes good practice to compare the performance of the models in order to choose the one that performs better (speed and/or accuracy). Options are:\n",
    "- Comparing the loss, accuracy and train time values of the models\n",
    "- Evaluating predictions in randomly generated data\n",
    "- Confusion matrices"
   ]
  },
  {
   "cell_type": "code",
   "execution_count": 36,
   "id": "83dc8379-aa8f-490d-9ac9-6c402c357c85",
   "metadata": {},
   "outputs": [
    {
     "data": {
      "text/html": [
       "<div>\n",
       "<style scoped>\n",
       "    .dataframe tbody tr th:only-of-type {\n",
       "        vertical-align: middle;\n",
       "    }\n",
       "\n",
       "    .dataframe tbody tr th {\n",
       "        vertical-align: top;\n",
       "    }\n",
       "\n",
       "    .dataframe thead th {\n",
       "        text-align: right;\n",
       "    }\n",
       "</style>\n",
       "<table border=\"1\" class=\"dataframe\">\n",
       "  <thead>\n",
       "    <tr style=\"text-align: right;\">\n",
       "      <th></th>\n",
       "      <th>Model name</th>\n",
       "      <th>Model loss</th>\n",
       "      <th>Model accuracy</th>\n",
       "      <th>training time</th>\n",
       "    </tr>\n",
       "  </thead>\n",
       "  <tbody>\n",
       "    <tr>\n",
       "      <th>0</th>\n",
       "      <td>NumberModel</td>\n",
       "      <td>0.096648</td>\n",
       "      <td>97.274361</td>\n",
       "      <td>97.427669</td>\n",
       "    </tr>\n",
       "    <tr>\n",
       "      <th>1</th>\n",
       "      <td>NumberModel_CNN</td>\n",
       "      <td>0.034749</td>\n",
       "      <td>98.781949</td>\n",
       "      <td>90.486741</td>\n",
       "    </tr>\n",
       "  </tbody>\n",
       "</table>\n",
       "</div>"
      ],
      "text/plain": [
       "        Model name  Model loss  Model accuracy  training time\n",
       "0      NumberModel    0.096648       97.274361      97.427669\n",
       "1  NumberModel_CNN    0.034749       98.781949      90.486741"
      ]
     },
     "execution_count": 36,
     "metadata": {},
     "output_type": "execute_result"
    }
   ],
   "source": [
    "# Model comparison\n",
    "\n",
    "import pandas as pd\n",
    "\n",
    "model_results = pd.DataFrame([model_0_results,model_2_results])\n",
    "\n",
    "model_results[\"training time\"] = [total_train_time_model_0, total_train_time_model_2]\n",
    "\n",
    "model_results"
   ]
  },
  {
   "cell_type": "code",
   "execution_count": 37,
   "id": "e0b0a048-b309-4c63-9252-10994ef60dfb",
   "metadata": {},
   "outputs": [
    {
     "data": {
      "text/plain": [
       "<matplotlib.legend.Legend at 0x7f9531755580>"
      ]
     },
     "execution_count": 37,
     "metadata": {},
     "output_type": "execute_result"
    },
    {
     "data": {
      "image/png": "[encoded data removed]",
      "text/plain": [
       "<Figure size 1152x288 with 3 Axes>"
      ]
     },
     "metadata": {
      "needs_background": "light"
     },
     "output_type": "display_data"
    }
   ],
   "source": [
    "# Visualize the results\n",
    "\n",
    "plt.figure(figsize=(16,4))\n",
    "\n",
    "plt.subplot(1,3,1)\n",
    "plt.barh(model_results[\"Model name\"],model_results[\"Model loss\"], color=['red','blue'])\n",
    "plt.xlabel(\"Model loss\")\n",
    "plt.yticks(\"\")\n",
    "\n",
    "plt.subplot(1,3,2)\n",
    "plt.barh(model_results[\"Model name\"],model_results[\"Model accuracy\"], color=['red','blue'])\n",
    "plt.xlabel(\"Model accuracy\")\n",
    "plt.yticks(\"\")\n",
    "\n",
    "plt.subplot(1,3,3)\n",
    "plt.barh(model_results[\"Model name\"],model_results[\"training time\"], color=['red','blue'],label=['Standard NN','Convolutional NN'])\n",
    "plt.xlabel(\"Model training time\")\n",
    "plt.yticks(\"\")\n",
    "plt.legend()"
   ]
  },
  {
   "cell_type": "code",
   "execution_count": 77,
   "id": "8064728e-3704-40a7-9fc3-5ac373c36b85",
   "metadata": {},
   "outputs": [],
   "source": [
    "# Make and evaluate random predictions\n",
    "\n",
    "def make_predict(model: torch.nn.Module, data: list, device: torch.device = device):\n",
    "    pred_prob_list = []\n",
    "    model.eval()\n",
    "    \n",
    "    with torch.inference_mode():\n",
    "        for sample in data:\n",
    "            # Sample preparation\n",
    "            sample = torch.unsqueeze(sample, dim=0).to(device)\n",
    "            \n",
    "            # Forward pass (logits output)\n",
    "            pred_logit = model(sample)\n",
    "            \n",
    "            # Transform to probabilities\n",
    "            pred_probs = torch.softmax(pred_logit.squeeze(),dim=0)\n",
    "            \n",
    "            #\n",
    "            pred_prob_list.append(pred_probs)\n",
    "          \n",
    "    # Stack the probabilites to turn list into a tensor\n",
    "    return torch.stack(pred_prob_list)\n",
    "            "
   ]
  },
  {
   "cell_type": "code",
   "execution_count": 59,
   "id": "586f0a57-8ffb-44a2-85bd-295025d16179",
   "metadata": {},
   "outputs": [],
   "source": [
    "# Random sampling\n",
    "\n",
    "import random\n",
    "\n",
    "random.seed(33)\n",
    "test_samples = []\n",
    "test_labels = []\n",
    "\n",
    "for sample, label in random.sample(list(testing), k=9):\n",
    "    test_samples.append(sample)\n",
    "    test_labels.append(label)"
   ]
  },
  {
   "cell_type": "code",
   "execution_count": 79,
   "id": "16d5c4e6-a7e3-4658-be72-df486a2d49d2",
   "metadata": {},
   "outputs": [
    {
     "data": {
      "text/plain": [
       "tensor([[3.5004e-16, 4.9159e-10, 3.4921e-09, 3.0620e-10, 9.9999e-01, 1.2501e-09,\n",
       "         5.1601e-13, 1.6207e-08, 1.8708e-08, 1.3401e-05],\n",
       "        [2.1428e-07, 3.9746e-07, 2.4224e-07, 1.2978e-05, 3.6522e-06, 1.2880e-06,\n",
       "         4.9514e-11, 2.0922e-03, 4.1802e-05, 9.9785e-01]])"
      ]
     },
     "execution_count": 79,
     "metadata": {},
     "output_type": "execute_result"
    }
   ],
   "source": [
    "# Make predictions using our new function\n",
    "\n",
    "prediction_probabilities = make_predict(model=model_2,data=test_samples,device=device)\n",
    "\n",
    "prediction_probabilities[:2]"
   ]
  },
  {
   "cell_type": "code",
   "execution_count": 81,
   "id": "680c1a8e-197e-4a58-80e6-e5d42a80d5d1",
   "metadata": {},
   "outputs": [
    {
     "data": {
      "text/plain": [
       "tensor([4, 9, 9, 8, 1, 7, 9, 7, 4])"
      ]
     },
     "execution_count": 81,
     "metadata": {},
     "output_type": "execute_result"
    }
   ],
   "source": [
    "# However it's better to transform it to the actual labels\n",
    "\n",
    "prediction_classes = prediction_probabilities.argmax(dim=1)\n",
    "prediction_classes"
   ]
  },
  {
   "cell_type": "code",
   "execution_count": 94,
   "id": "f78ba356-ed6e-4c6c-a113-b36b679bd835",
   "metadata": {},
   "outputs": [
    {
     "data": {
      "image/png": "[encoded data removed]",
      "text/plain": [
       "<Figure size 648x648 with 9 Axes>"
      ]
     },
     "metadata": {
      "needs_background": "light"
     },
     "output_type": "display_data"
    }
   ],
   "source": [
    "# Plot the predictions\n",
    "\n",
    "plt.figure(figsize=(9,9))\n",
    "\n",
    "nrow, ncol = 3, 3\n",
    "\n",
    "for i, sample in enumerate(test_samples):\n",
    "    \n",
    "    plt.subplot(nrow,ncol,i+1)\n",
    "    \n",
    "    plt.imshow(sample.squeeze(),cmap='gray')\n",
    "    plt.axis('off')\n",
    "    \n",
    "    pred_label = class_names[prediction_classes[i]]\n",
    "    true_label = class_names[test_labels[i]]\n",
    "    \n",
    "    title_label = f\"Pred: {pred_label} | Truth: {true_label}\"\n",
    "    \n",
    "    if pred_label == true_label:\n",
    "        plt.title(title_label, fontsize=10, c='g')\n",
    "    else:\n",
    "        plt.title(title_label, fontsize=10, c='r')"
   ]
  },
  {
   "cell_type": "markdown",
   "id": "f3185d1f-e9db-499c-ada0-aa5d638e8548",
   "metadata": {},
   "source": [
    "## Confusion matrix\n",
    "\n",
    "A confusion matrix shows how many times labels were classified correctly and incorrectly. The diagonal of the matrix is the correct classifications of the model, while the rest shows the incorrect ones. This can help identify hard classify labels, and solve potential issues with ground-truth labels.\n",
    "\n",
    "To build a confusion matrix we follow these steps:\n",
    "\n",
    "1. Make predictions with a trained model\n",
    "2. Make the confusion matrix using `torchmetrics.ConfusionMatrix`\n",
    "3. Plot the matrix. For this use `mlxtend.plotting.plot_confusion_matrix()`"
   ]
  },
  {
   "cell_type": "code",
   "execution_count": 95,
   "id": "0af95a8d-b48e-411a-b47b-87863e926918",
   "metadata": {},
   "outputs": [
    {
     "name": "stdout",
     "output_type": "stream",
     "text": [
      "mlxtend version: 0.22.0\n"
     ]
    }
   ],
   "source": [
    "# See if torchmetrics exists, if not, install it\n",
    "try:\n",
    "    import torchmetrics, mlxtend\n",
    "    print(f\"mlxtend version: {mlxtend.__version__}\")\n",
    "    assert int(mlxtend.__version__.split(\".\")[1]) >= 19, \"mlxtend verison should be 0.19.0 or higher\"\n",
    "except:\n",
    "    !pip install -q torchmetrics -U mlxtend # <- Note: If you're using Google Colab, this may require restarting the runtime\n",
    "    import torchmetrics, mlxtend\n",
    "    print(f\"mlxtend version: {mlxtend.__version__}\")"
   ]
  },
  {
   "cell_type": "code",
   "execution_count": 98,
   "id": "8fabb483-edcd-4bd8-ba12-5fa3fc57e6dd",
   "metadata": {},
   "outputs": [
    {
     "data": {
      "application/vnd.jupyter.widget-view+json": {
       "model_id": "b335c5cefd004c32ae183be0aa861323",
       "version_major": 2,
       "version_minor": 0
      },
      "text/plain": [
       "predicting:   0%|          | 0/313 [00:00<?, ?it/s]"
      ]
     },
     "metadata": {},
     "output_type": "display_data"
    }
   ],
   "source": [
    "# 1. Predictions\n",
    "\n",
    "y_preds = []\n",
    "model_2.eval()\n",
    "\n",
    "with torch.inference_mode():\n",
    "    \n",
    "    for X,y in tqdm(test_dataloader, desc=\"predicting\"):\n",
    "        \n",
    "        X, y = X.to(device), y.to(device)\n",
    "        \n",
    "        y_logits = model_2(X)\n",
    "        \n",
    "        y_pred = torch.softmax(y_logits,dim=1).argmax(dim=1)\n",
    "        y_preds.append(y_pred)\n",
    "\n",
    "y_preds_tensor = torch.cat(y_preds)"
   ]
  },
  {
   "cell_type": "code",
   "execution_count": 102,
   "id": "ae2bddf2-73ec-4847-bb9b-34e2e1c9721d",
   "metadata": {},
   "outputs": [],
   "source": [
    "# 2. Make the confusion matrix\n",
    "\n",
    "from torchmetrics import ConfusionMatrix\n",
    "\n",
    "ConfMat = ConfusionMatrix(num_classes = len(class_names), task='multiclass')\n",
    "\n",
    "ConfMat_tensor = ConfMat(preds=y_preds_tensor, target=testing.targets)"
   ]
  },
  {
   "cell_type": "code",
   "execution_count": 109,
   "id": "0c147ac0-56f4-441d-a42c-da1c9b22374d",
   "metadata": {},
   "outputs": [
    {
     "data": {
      "image/png": "[encoded data removed]",
      "text/plain": [
       "<Figure size 720x720 with 1 Axes>"
      ]
     },
     "metadata": {
      "needs_background": "light"
     },
     "output_type": "display_data"
    }
   ],
   "source": [
    "# 3. Plot the matrix\n",
    "\n",
    "from mlxtend.plotting import plot_confusion_matrix\n",
    "\n",
    "fig, ax = plot_confusion_matrix(\n",
    "    conf_mat = ConfMat_tensor.numpy(),\n",
    "    class_names=class_names,\n",
    "    cmap='Greens',\n",
    "    figsize=(10,10))"
   ]
  },
  {
   "cell_type": "code",
   "execution_count": 111,
   "id": "b7845b97-6736-4b4e-838d-b45a4f020ae1",
   "metadata": {},
   "outputs": [
    {
     "name": "stdout",
     "output_type": "stream",
     "text": [
      "Saving path is models/CNN_MNIST_Numbers_model.pth\n"
     ]
    }
   ],
   "source": [
    "# Finally, let's save our CNN model\n",
    "\n",
    "from pathlib import Path\n",
    "\n",
    "Mods_Path = Path(\"models\")\n",
    "\n",
    "Mod_Name = \"CNN_MNIST_Numbers_model.pth\" # .pth and .pt are standard PyTorch file extensions\n",
    "Mod_Saving_Path = Mods_Path / Mod_Name\n",
    "\n",
    "print(f\"Saving path is {Mod_Saving_Path}\")\n",
    "\n",
    "# Save the model state dict\n",
    "torch.save(obj = model_2.state_dict(), f = Mod_Saving_Path)"
   ]
  }
 ],
 "metadata": {
  "kernelspec": {
   "display_name": "Python 3 (ipykernel)",
   "language": "python",
   "name": "python3"
  },
  "language_info": {
   "codemirror_mode": {
    "name": "ipython",
    "version": 3
   },
   "file_extension": ".py",
   "mimetype": "text/x-python",
   "name": "python",
   "nbconvert_exporter": "python",
   "pygments_lexer": "ipython3",
   "version": "3.9.7"
  }
 },
 "nbformat": 4,
 "nbformat_minor": 5
}
